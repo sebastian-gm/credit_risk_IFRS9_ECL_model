{
 "cells": [
  {
   "cell_type": "markdown",
   "id": "dcb47e91-24d3-4d0b-8062-be68b0dcea9f",
   "metadata": {},
   "source": [
    "# Data Cleaning & Preprocessing\n",
    "\n",
    "**Purpose**:\n",
    "- Address missing values (`loan_int_rate`, `person_emp_length`)\n",
    "- Identify outliers for numeric columns (like `person_age, `person_income`, `loan_amnt`)\n",
    "- Possibly create or transform features (e.g., ratio of `loan_amnt` to `person_income`)\n",
    "- Ensure data is ready for Probability of Default (PD) modeling in the next notebook."
   ]
  },
  {
   "cell_type": "code",
   "execution_count": 2,
   "id": "8114b2bf-ddc8-4958-b682-01b36d677799",
   "metadata": {},
   "outputs": [
    {
     "name": "stdout",
     "output_type": "stream",
     "text": [
      "Data shape: (32581, 12)\n"
     ]
    },
    {
     "data": {
      "text/html": [
       "<div>\n",
       "<style scoped>\n",
       "    .dataframe tbody tr th:only-of-type {\n",
       "        vertical-align: middle;\n",
       "    }\n",
       "\n",
       "    .dataframe tbody tr th {\n",
       "        vertical-align: top;\n",
       "    }\n",
       "\n",
       "    .dataframe thead th {\n",
       "        text-align: right;\n",
       "    }\n",
       "</style>\n",
       "<table border=\"1\" class=\"dataframe\">\n",
       "  <thead>\n",
       "    <tr style=\"text-align: right;\">\n",
       "      <th></th>\n",
       "      <th>person_age</th>\n",
       "      <th>person_income</th>\n",
       "      <th>person_home_ownership</th>\n",
       "      <th>person_emp_length</th>\n",
       "      <th>loan_intent</th>\n",
       "      <th>loan_grade</th>\n",
       "      <th>loan_amnt</th>\n",
       "      <th>loan_int_rate</th>\n",
       "      <th>loan_status</th>\n",
       "      <th>loan_percent_income</th>\n",
       "      <th>cb_person_default_on_file</th>\n",
       "      <th>cb_person_cred_hist_length</th>\n",
       "    </tr>\n",
       "  </thead>\n",
       "  <tbody>\n",
       "    <tr>\n",
       "      <th>0</th>\n",
       "      <td>22</td>\n",
       "      <td>59000</td>\n",
       "      <td>RENT</td>\n",
       "      <td>123.0</td>\n",
       "      <td>PERSONAL</td>\n",
       "      <td>D</td>\n",
       "      <td>35000</td>\n",
       "      <td>16.02</td>\n",
       "      <td>1</td>\n",
       "      <td>0.59</td>\n",
       "      <td>Y</td>\n",
       "      <td>3</td>\n",
       "    </tr>\n",
       "    <tr>\n",
       "      <th>1</th>\n",
       "      <td>21</td>\n",
       "      <td>9600</td>\n",
       "      <td>OWN</td>\n",
       "      <td>5.0</td>\n",
       "      <td>EDUCATION</td>\n",
       "      <td>B</td>\n",
       "      <td>1000</td>\n",
       "      <td>11.14</td>\n",
       "      <td>0</td>\n",
       "      <td>0.10</td>\n",
       "      <td>N</td>\n",
       "      <td>2</td>\n",
       "    </tr>\n",
       "    <tr>\n",
       "      <th>2</th>\n",
       "      <td>25</td>\n",
       "      <td>9600</td>\n",
       "      <td>MORTGAGE</td>\n",
       "      <td>1.0</td>\n",
       "      <td>MEDICAL</td>\n",
       "      <td>C</td>\n",
       "      <td>5500</td>\n",
       "      <td>12.87</td>\n",
       "      <td>1</td>\n",
       "      <td>0.57</td>\n",
       "      <td>N</td>\n",
       "      <td>3</td>\n",
       "    </tr>\n",
       "    <tr>\n",
       "      <th>3</th>\n",
       "      <td>23</td>\n",
       "      <td>65500</td>\n",
       "      <td>RENT</td>\n",
       "      <td>4.0</td>\n",
       "      <td>MEDICAL</td>\n",
       "      <td>C</td>\n",
       "      <td>35000</td>\n",
       "      <td>15.23</td>\n",
       "      <td>1</td>\n",
       "      <td>0.53</td>\n",
       "      <td>N</td>\n",
       "      <td>2</td>\n",
       "    </tr>\n",
       "    <tr>\n",
       "      <th>4</th>\n",
       "      <td>24</td>\n",
       "      <td>54400</td>\n",
       "      <td>RENT</td>\n",
       "      <td>8.0</td>\n",
       "      <td>MEDICAL</td>\n",
       "      <td>C</td>\n",
       "      <td>35000</td>\n",
       "      <td>14.27</td>\n",
       "      <td>1</td>\n",
       "      <td>0.55</td>\n",
       "      <td>Y</td>\n",
       "      <td>4</td>\n",
       "    </tr>\n",
       "  </tbody>\n",
       "</table>\n",
       "</div>"
      ],
      "text/plain": [
       "   person_age  person_income person_home_ownership  person_emp_length  \\\n",
       "0          22          59000                  RENT              123.0   \n",
       "1          21           9600                   OWN                5.0   \n",
       "2          25           9600              MORTGAGE                1.0   \n",
       "3          23          65500                  RENT                4.0   \n",
       "4          24          54400                  RENT                8.0   \n",
       "\n",
       "  loan_intent loan_grade  loan_amnt  loan_int_rate  loan_status  \\\n",
       "0    PERSONAL          D      35000          16.02            1   \n",
       "1   EDUCATION          B       1000          11.14            0   \n",
       "2     MEDICAL          C       5500          12.87            1   \n",
       "3     MEDICAL          C      35000          15.23            1   \n",
       "4     MEDICAL          C      35000          14.27            1   \n",
       "\n",
       "   loan_percent_income cb_person_default_on_file  cb_person_cred_hist_length  \n",
       "0                 0.59                         Y                           3  \n",
       "1                 0.10                         N                           2  \n",
       "2                 0.57                         N                           3  \n",
       "3                 0.53                         N                           2  \n",
       "4                 0.55                         Y                           4  "
      ]
     },
     "execution_count": 2,
     "metadata": {},
     "output_type": "execute_result"
    }
   ],
   "source": [
    "import pandas as pd\n",
    "import numpy as np\n",
    "import matplotlib.pyplot as plt\n",
    "import seaborn as sns\n",
    "\n",
    "pd.set_option('display.max_columns', 30)\n",
    "\n",
    "df = pd.read_csv(\"../data/credit_risk_dataset.csv\")\n",
    "\n",
    "print(\"Data shape:\", df.shape)\n",
    "df.head()"
   ]
  },
  {
   "cell_type": "markdown",
   "id": "d6ab466b-dd20-40f9-affb-d189932c0186",
   "metadata": {},
   "source": [
    "### Handling Missing Values\n",
    "I have about 3116 missing entries for `loan_int_rate`, and 895 for `person_emp_length`\n",
    "- `person_emp_length`: Impute with median or possibly 0 to indicate no employment length.\n",
    "- `loan_int_rate`: Because interest rate is importatr in determining risk, I might drop these rows avoid inaccurate assumptions. Otherwise, I can impute with median interest rate."
   ]
  },
  {
   "cell_type": "code",
   "execution_count": 4,
   "id": "0d856236-9c3d-4f1b-9c9d-0dd35a1e84df",
   "metadata": {},
   "outputs": [
    {
     "name": "stdout",
     "output_type": "stream",
     "text": [
      "9.56% of loan_int_rate is missing.\n",
      "person_age                    0\n",
      "person_income                 0\n",
      "person_home_ownership         0\n",
      "person_emp_length             0\n",
      "loan_intent                   0\n",
      "loan_grade                    0\n",
      "loan_amnt                     0\n",
      "loan_int_rate                 0\n",
      "loan_status                   0\n",
      "loan_percent_income           0\n",
      "cb_person_default_on_file     0\n",
      "cb_person_cred_hist_length    0\n",
      "dtype: int64\n"
     ]
    }
   ],
   "source": [
    "# Check how big a portion are the missing rows in loan_int_rate\n",
    "missing_int_rate = df['loan_int_rate'].isnull().sum()\n",
    "total_rows = df.shape[0]\n",
    "pct_missing_int_rate = (missing_int_rate / total_rows) * 100\n",
    "print(f'{pct_missing_int_rate:.2f}% of loan_int_rate is missing.')\n",
    "\n",
    "# If it's small, i can drop:\n",
    "df = df.dropna(subset=['loan_int_rate'])\n",
    "\n",
    "# for person_emp_length, let's do a median imputation:\n",
    "median_emp_length = df['person_emp_length'].median()\n",
    "df['person_emp_length'] = df['person_emp_length'].fillna(median_emp_length)\n",
    "\n",
    "# Confirm no more missing\n",
    "print(df.isnull().sum())"
   ]
  },
  {
   "cell_type": "markdown",
   "id": "a423dde3-8ad0-4a0f-ba88-acebadbb3c4d",
   "metadata": {},
   "source": [
    "**Missing Values Decision**:\n",
    "- Dropped rows for `loan_int_rate` missing data, because it's only 9.56% of total rows, and `loan_int_rate` is crucial for PDF + IFRS 9 perspective.\n",
    "- Imputed  `person_emp_length` with median = X years. T his keeps as many rows as possible\n",
    "\n",
    "Next, I'll look at outliers and potential feature transformations."
   ]
  },
  {
   "cell_type": "markdown",
   "id": "4aad9c3d-60c0-4a43-a99d-3186860260c1",
   "metadata": {},
   "source": [
    "### Outlier Detection and Feature Transformations\n",
    "\n",
    "Now that I've handled missing values, I want to ensure extreme outliers or heavily skewed distributions won't negatively affect my Probability of Default (PD) modeling. In a credit risk context, features like `person_income` or `person_age` can have exceptionally high values that might distort the model.\n",
    "\n",
    "**Plan**:\n",
    "- Visualize boxplots for numeric features to spot extreme values.\n",
    "- Decide whether to cap (winsorize) or apply a log transform for highly skewed features."
   ]
  },
  {
   "cell_type": "code",
   "execution_count": 12,
   "id": "01e0e792-d0bb-4366-8f84-e9aed6005097",
   "metadata": {},
   "outputs": [
    {
     "data": {
      "image/png": "[encoded data removed]",
      "text/plain": [
       "<Figure size 1200x600 with 4 Axes>"
      ]
     },
     "metadata": {},
     "output_type": "display_data"
    }
   ],
   "source": [
    "numeric_cols = df.select_dtypes(include=[np.number]).columns\n",
    "\n",
    "plt.figure(figsize=(12,6))\n",
    "\n",
    "# I'll just show boxplots for a few key columns that might be skewed\n",
    "columns_of_interest = ['person_age', 'person_income', 'loan_amnt', 'loan_int_rate']\n",
    "\n",
    "for i, col in enumerate(columns_of_interest, start =1):\n",
    "    plt.subplot(2, 2, i)\n",
    "    sns.boxplot(x=df[col], color = '#2196F3')\n",
    "    plt.title(f'Boxplot: {col}')\n",
    "\n",
    "plt.tight_layout()\n",
    "plt.show()"
   ]
  },
  {
   "cell_type": "markdown",
   "id": "0d69f12d-1a84-45d0-a115-85c2eb5846fc",
   "metadata": {},
   "source": [
    "### Feature Engineering: Loan-to-Income Ratio\n",
    "\n",
    "I'll create `loan_to_income_ratio = loan_amnt / person_income`. In many underwriting processes, a higher ratio indicates higher risk, aligning with what I'd expect for PD modeling."
   ]
  },
  {
   "cell_type": "code",
   "execution_count": 15,
   "id": "9eb9fec6-39ac-4efe-be0a-8f55065f8ac8",
   "metadata": {},
   "outputs": [
    {
     "data": {
      "text/plain": [
       "count    29465.000000\n",
       "mean         0.170455\n",
       "std          0.107141\n",
       "min          0.000833\n",
       "25%          0.089509\n",
       "50%          0.147926\n",
       "75%          0.228568\n",
       "max          0.829959\n",
       "Name: loan_to_income_ratio, dtype: float64"
      ]
     },
     "execution_count": 15,
     "metadata": {},
     "output_type": "execute_result"
    }
   ],
   "source": [
    "df['loan_to_income_ratio'] = df['loan_amnt'] / (df['person_income'] + 1) # +1 to avoid division by zero\n",
    "df['loan_to_income_ratio'].describe()                                                "
   ]
  },
  {
   "cell_type": "markdown",
   "id": "f53c6a0d-5251-4588-bbe7-b5fccd810161",
   "metadata": {},
   "source": [
    "### Outlier Capping (person_income & person_age)\n",
    "\n",
    "Although I've viewed boxplots,  I can see `person_income` sometimes goes up to 1e6, and `person_age` can exceed 100.\n",
    "\n",
    "In a realistic credit context:\n",
    "- Very high income can bias the model if they're outliers or data errors.\n",
    "- Ages above 100+ might be suspicious or extremely rare.\n",
    "\n",
    "**Action**\n",
    "- Cap each column at the 99th percentile. This keeps most data intact while limiting extreme values.\n",
    "- This approach is sometimes called *winsorizing*, used commonly for robust credit modeling."
   ]
  },
  {
   "cell_type": "code",
   "execution_count": 18,
   "id": "ae248072-d895-4d54-a171-b4b1d8af77c5",
   "metadata": {},
   "outputs": [
    {
     "name": "stdout",
     "output_type": "stream",
     "text": [
      "Capping done.\n",
      "99th percentile of person_income: 230000.0\n",
      "99th percentile of person_age: 50.0\n"
     ]
    }
   ],
   "source": [
    "# Capping the 99th percentile\n",
    "cap_income = df['person_income'].quantile(0.99)\n",
    "cap_age = df['person_age'].quantile(0.99)\n",
    "\n",
    "df['person_income'] = np.where(\n",
    "    df['person_income'] > cap_income,\n",
    "    cap_income,\n",
    "    df['person_income']\n",
    ")\n",
    "\n",
    "df['person_age'] = np.where(\n",
    "    df['person_age'] > cap_age,\n",
    "    cap_age,\n",
    "    df['person_age']\n",
    ")\n",
    "\n",
    "print(\"Capping done.\")\n",
    "print('99th percentile of person_income:', cap_income)\n",
    "print('99th percentile of person_age:', cap_age)"
   ]
  },
  {
   "cell_type": "markdown",
   "id": "369a1363-3823-4d93-8d0c-418849633d78",
   "metadata": {},
   "source": [
    "#### Verifying Capping\n",
    "\n",
    "I'll now re-check the distributions or summary stats to confirm that outliers have been capped properly."
   ]
  },
  {
   "cell_type": "code",
   "execution_count": 21,
   "id": "6206b291-27ac-4a64-9d64-9e5c97afc6d6",
   "metadata": {},
   "outputs": [
    {
     "name": "stdout",
     "output_type": "stream",
     "text": [
      "       person_income    person_age\n",
      "count   29465.000000  29465.000000\n",
      "mean    64381.066384     27.643034\n",
      "std     38062.480497      5.889981\n",
      "min      4000.000000     20.000000\n",
      "25%     38500.000000     23.000000\n",
      "50%     55000.000000     26.000000\n",
      "75%     79100.000000     30.000000\n",
      "max    230000.000000     50.000000\n"
     ]
    },
    {
     "data": {
      "image/png": "[encoded data removed]",
      "text/plain": [
       "<Figure size 1000x400 with 2 Axes>"
      ]
     },
     "metadata": {},
     "output_type": "display_data"
    }
   ],
   "source": [
    "print(df[['person_income', 'person_age']].describe())\n",
    "\n",
    "fig, axs = plt.subplots(1, 2, figsize=(10,4))\n",
    "\n",
    "sns.boxplot(x=df['person_income'], ax=axs[0], color = '#FF9800')\n",
    "axs[0].set_title('Capped person_income')\n",
    "\n",
    "sns.boxplot(x=df['person_age'], ax=axs[1], color='#4CAF50')\n",
    "axs[1].set_title('Capped person_age')\n",
    "\n",
    "plt.tight_layout()\n",
    "plt.show()"
   ]
  },
  {
   "cell_type": "markdown",
   "id": "497b47d1-e25f-46e0-b7ef-7d1bb29a9d88",
   "metadata": {},
   "source": [
    "### Optional Capping for `loan_int_rate` and `loan_amnt`\n",
    "\n",
    "I will quickly check the 99th percentile of these columns to see if necessary for outlier control. "
   ]
  },
  {
   "cell_type": "code",
   "execution_count": 28,
   "id": "1e76f6d6-4db9-41d8-9ee3-936d14400697",
   "metadata": {},
   "outputs": [
    {
     "name": "stdout",
     "output_type": "stream",
     "text": [
      "99th percentile of loan_int_rate: 18.62\n",
      "99th percentile of loan_amnt: 28872.000000000116\n"
     ]
    }
   ],
   "source": [
    "cap_rate = df['loan_int_rate'].quantile(0.99)\n",
    "cap_amnt = df['loan_amnt'].quantile(0.99)\n",
    "\n",
    "print('99th percentile of loan_int_rate:', cap_rate)\n",
    "print('99th percentile of loan_amnt:', cap_amnt)"
   ]
  },
  {
   "cell_type": "markdown",
   "id": "d5823b6d-cf93-43e1-9d63-1c81b9d779b0",
   "metadata": {},
   "source": [
    "### Saving the Cleaned Dataset\n",
    "\n",
    "I'll store this processed DataFrame so that the next notebook (where I'll do PD modeling) can simply load it directly."
   ]
  },
  {
   "cell_type": "code",
   "execution_count": 33,
   "id": "0cea9d2f-789c-43d7-a611-f19d03ba1568",
   "metadata": {},
   "outputs": [
    {
     "name": "stdout",
     "output_type": "stream",
     "text": [
      "Cleaned dataset saved to: ../data/credit_risk_dataset_claned.csv\n"
     ]
    }
   ],
   "source": [
    "output_path = '../data/credit_risk_dataset_cleaned.csv'\n",
    "df.to_csv(output_path, index=False)\n",
    "print(f'Cleaned dataset saved to: {output_path}')"
   ]
  },
  {
   "cell_type": "markdown",
   "id": "db391c3e-7f86-43a2-a510-87a6efbc7244",
   "metadata": {},
   "source": [
    "## Conclusion & Next Steps\n",
    "\n",
    "1. **Missing Values**:\n",
    "   - Dropped rows for `loan_int_rate` when null (~9.56% of data).\n",
    "   - Imputed `person_emp_length` with median.\n",
    "\n",
    "2. **Outliers**:\n",
    "   - Capped `person_income` and `person_age` at the 99th percentile.\n",
    "\n",
    "3. **Feature Engineering**:\n",
    "   - Created a new `loan_to_income_ratio` to capture how big the loan is relative to income\n",
    "  \n",
    "4. **Saved** the processed dataset as `credit_risk_dataset_cleaned.csv`.\n",
    "\n",
    "**Next**: In the next notebook, I will:\n",
    "- Load this cleaned file.\n",
    "- Train a **Logistic Regression** model (and possibly other algorithms).\n",
    "- Evaluate Probability of Default (PD) metrics such as AUC, recall, and confusion matrix.\n",
    "- Eventually use these PD estimates for IFRS 9 ECL calculations (LGD, EAD, scenario analysis)."
   ]
  }
 ],
 "metadata": {
  "kernelspec": {
   "display_name": "PD Credit Env",
   "language": "python",
   "name": "pd_model_env"
  },
  "language_info": {
   "codemirror_mode": {
    "name": "ipython",
    "version": 3
   },
   "file_extension": ".py",
   "mimetype": "text/x-python",
   "name": "python",
   "nbconvert_exporter": "python",
   "pygments_lexer": "ipython3",
   "version": "3.10.15"
  }
 },
 "nbformat": 4,
 "nbformat_minor": 5
}
